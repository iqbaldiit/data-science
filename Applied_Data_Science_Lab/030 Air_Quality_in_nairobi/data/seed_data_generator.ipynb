{
 "cells": [
  {
   "cell_type": "code",
   "execution_count": 1,
   "metadata": {},
   "outputs": [],
   "source": [
    "import datetime\n",
    "import random\n",
    "from bson import ObjectId\n",
    "from pymongo import MongoClient"
   ]
  },
  {
   "cell_type": "code",
   "execution_count": 2,
   "metadata": {},
   "outputs": [],
   "source": [
    "# Connect to MongoDB (change connection string as needed)\n",
    "client = MongoClient('mongodb://localhost:27017/')\n",
    "db = client['air-quality']\n",
    "collection = db['nairobi']\n",
    "\n",
    "# Configuration\n",
    "site_counts = {6: 70360, 29: 131852}\n",
    "measurements_counts = [\n",
    "    {'_id': 'temperature', 'count': 33019},\n",
    "    {'_id': 'P2', 'count': 32907},\n",
    "    {'_id': 'humidity', 'count': 33019},\n",
    "    {'_id': 'P1', 'count': 32907}\n",
    "]"
   ]
  },
  {
   "cell_type": "code",
   "execution_count": 3,
   "metadata": {},
   "outputs": [
    {
     "name": "stdout",
     "output_type": "stream",
     "text": [
      "Data insertion completed!\n"
     ]
    }
   ],
   "source": [
    "# Generate documents\n",
    "documents = []\n",
    "timestamp_start = datetime.datetime(2018, 9, 1, 0, 0, 0)\n",
    "\n",
    "for site, count in site_counts.items():\n",
    "    for _ in range(count):\n",
    "        measurement = random.choice(measurements_counts)['_id']\n",
    "        if measurement == 'P2':\n",
    "            timestamp_start += datetime.timedelta(minutes=5)  # Increment timestamp for P2\n",
    "            value = round(random.uniform(10, 40), 2)  # Generate random value for P2\n",
    "        else:\n",
    "            timestamp_start += datetime.timedelta(seconds=1)  # Increment timestamp for other measurements\n",
    "            value = round(random.uniform(10, 30), 1) if measurement == 'temperature' else round(random.uniform(0, 100), 1)\n",
    "\n",
    "        document = {\n",
    "            '_id': ObjectId(),\n",
    "            'metadata': {\n",
    "                'lat': -1.3,\n",
    "                'lon': 36.785,\n",
    "                'measurement': measurement,\n",
    "                'sensor_id': random.randint(1, 100),\n",
    "                'sensor_type': 'DHT22' if measurement == 'temperature' else 'Unknown',\n",
    "                'site': site\n",
    "            },\n",
    "            'temperature' if measurement == 'temperature' else 'value': value,\n",
    "            'timestamp': timestamp_start\n",
    "        }\n",
    "\n",
    "        documents.append(document)\n",
    "\n",
    "# Insert documents into MongoDB\n",
    "collection.insert_many(documents)\n",
    "print(\"Data insertion completed!\")"
   ]
  }
 ],
 "metadata": {
  "kernelspec": {
   "display_name": "Python 3",
   "language": "python",
   "name": "python3"
  },
  "language_info": {
   "codemirror_mode": {
    "name": "ipython",
    "version": 3
   },
   "file_extension": ".py",
   "mimetype": "text/x-python",
   "name": "python",
   "nbconvert_exporter": "python",
   "pygments_lexer": "ipython3",
   "version": "3.12.4"
  }
 },
 "nbformat": 4,
 "nbformat_minor": 2
}
