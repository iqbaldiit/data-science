{
 "cells": [
  {
   "cell_type": "code",
   "execution_count": 1,
   "metadata": {},
   "outputs": [],
   "source": [
    "from pprint import PrettyPrinter\n",
    "\n",
    "import pandas as pd\n",
    "from IPython.display import VimeoVideo\n",
    "from pymongo import MongoClient"
   ]
  },
  {
   "cell_type": "code",
   "execution_count": 2,
   "metadata": {},
   "outputs": [],
   "source": [
    "# Instantiate a PrettyPrinter, and assign it to the variable pp.\n",
    "pp = PrettyPrinter(indent=2)\n",
    "\n",
    "#Create a client that connects to the database running at localhost on port 27017.\n",
    "client = MongoClient(host=\"localhost\",port=27017)"
   ]
  },
  {
   "cell_type": "code",
   "execution_count": 3,
   "metadata": {},
   "outputs": [
    {
     "name": "stdout",
     "output_type": "stream",
     "text": [
      "[ {'empty': False, 'name': 'admin', 'sizeOnDisk': 49152},\n",
      "  {'empty': False, 'name': 'air-quality', 'sizeOnDisk': 8409088},\n",
      "  {'empty': False, 'name': 'config', 'sizeOnDisk': 110592},\n",
      "  {'empty': False, 'name': 'local', 'sizeOnDisk': 73728}]\n"
     ]
    }
   ],
   "source": [
    "#Print a list of the databases available on client.\n",
    "pp.pprint(list(client.list_databases()))"
   ]
  },
  {
   "cell_type": "code",
   "execution_count": 4,
   "metadata": {},
   "outputs": [
    {
     "data": {
      "text/plain": [
       "['nairobi']"
      ]
     },
     "execution_count": 4,
     "metadata": {},
     "output_type": "execute_result"
    }
   ],
   "source": [
    "db = client['air-quality'] # Assign the \"air-quality\" database to the variable db.\n",
    "db.list_collection_names() #Use the list_collections method to print a list of the collections available in db."
   ]
  },
  {
   "cell_type": "code",
   "execution_count": 5,
   "metadata": {},
   "outputs": [
    {
     "data": {
      "text/plain": [
       "202212"
      ]
     },
     "execution_count": 5,
     "metadata": {},
     "output_type": "execute_result"
    }
   ],
   "source": [
    "nairobi = db['nairobi'] # Assign the \"nairobi\" collection in db to the variable name nairobi.\n",
    "nairobi.count_documents({}) # Use the count_documents method to see how many documents are in the nairobi collection."
   ]
  },
  {
   "cell_type": "code",
   "execution_count": 6,
   "metadata": {},
   "outputs": [
    {
     "name": "stdout",
     "output_type": "stream",
     "text": [
      "{ '_id': ObjectId('678f6b097a7ae64bc40c06a8'),\n",
      "  'metadata': { 'lat': -1.3,\n",
      "                'lon': 36.785,\n",
      "                'measurement': 'humidity',\n",
      "                'sensor_id': 21,\n",
      "                'sensor_type': 'Unknown',\n",
      "                'site': 6},\n",
      "  'timestamp': datetime.datetime(2018, 9, 1, 0, 0, 1),\n",
      "  'value': 73.2}\n"
     ]
    }
   ],
   "source": [
    "# Use the find_one method to retrieve one document from the nairobi collection, and assign it to the variable name result.\n",
    "result = nairobi.find_one({})\n",
    "pp.pprint(result)"
   ]
  },
  {
   "cell_type": "code",
   "execution_count": 7,
   "metadata": {},
   "outputs": [
    {
     "data": {
      "text/plain": [
       "[6, 29]"
      ]
     },
     "execution_count": 7,
     "metadata": {},
     "output_type": "execute_result"
    }
   ],
   "source": [
    "# Use the distinct method to determine how many sensor sites are included in the nairobi collection.\n",
    "nairobi.distinct('metadata.site')"
   ]
  },
  {
   "cell_type": "code",
   "execution_count": 8,
   "metadata": {},
   "outputs": [
    {
     "name": "stdout",
     "output_type": "stream",
     "text": [
      "Documents from site 6: 70360\n",
      "Documents from site 29: 131852\n"
     ]
    }
   ],
   "source": [
    "# Use the count_documents method to determine how many readings there are for each site in the nairobi collection.\n",
    "print(\"Documents from site 6:\", nairobi.count_documents({'metadata.site':6}))\n",
    "print(\"Documents from site 29:\", nairobi.count_documents({'metadata.site':29}))\n"
   ]
  },
  {
   "cell_type": "code",
   "execution_count": 9,
   "metadata": {},
   "outputs": [
    {
     "name": "stdout",
     "output_type": "stream",
     "text": [
      "[{'_id': 29, 'count': 131852}, {'_id': 6, 'count': 70360}]\n"
     ]
    }
   ],
   "source": [
    "# Use the aggregate method to determine how many readings there are for each site in the nairobi collection.\n",
    "result = nairobi.aggregate([{\"$group\":{\"_id\":\"$metadata.site\",\"count\":{\"$count\":{}}}}])\n",
    "pp.pprint(list(result))"
   ]
  },
  {
   "cell_type": "code",
   "execution_count": 10,
   "metadata": {},
   "outputs": [
    {
     "data": {
      "text/plain": [
       "['P1', 'P2', 'humidity', 'temperature']"
      ]
     },
     "execution_count": 10,
     "metadata": {},
     "output_type": "execute_result"
    }
   ],
   "source": [
    "# Use the distinct method to determine how many types of measurements have been taken in the nairobi collection.\n",
    "nairobi.distinct(\"metadata.measurement\")"
   ]
  },
  {
   "cell_type": "code",
   "execution_count": 11,
   "metadata": {},
   "outputs": [
    {
     "name": "stdout",
     "output_type": "stream",
     "text": [
      "[ { '_id': ObjectId('678f6b097a7ae64bc40c06b0'),\n",
      "    'metadata': { 'lat': -1.3,\n",
      "                  'lon': 36.785,\n",
      "                  'measurement': 'P2',\n",
      "                  'sensor_id': 74,\n",
      "                  'sensor_type': 'Unknown',\n",
      "                  'site': 6},\n",
      "    'timestamp': datetime.datetime(2018, 9, 1, 0, 5, 8),\n",
      "    'value': 34.71},\n",
      "  { '_id': ObjectId('678f6b097a7ae64bc40c06b1'),\n",
      "    'metadata': { 'lat': -1.3,\n",
      "                  'lon': 36.785,\n",
      "                  'measurement': 'P2',\n",
      "                  'sensor_id': 28,\n",
      "                  'sensor_type': 'Unknown',\n",
      "                  'site': 6},\n",
      "    'timestamp': datetime.datetime(2018, 9, 1, 0, 10, 8),\n",
      "    'value': 31.88},\n",
      "  { '_id': ObjectId('678f6b097a7ae64bc40c06b4'),\n",
      "    'metadata': { 'lat': -1.3,\n",
      "                  'lon': 36.785,\n",
      "                  'measurement': 'P2',\n",
      "                  'sensor_id': 42,\n",
      "                  'sensor_type': 'Unknown',\n",
      "                  'site': 6},\n",
      "    'timestamp': datetime.datetime(2018, 9, 1, 0, 15, 10),\n",
      "    'value': 17.53},\n",
      "  { '_id': ObjectId('678f6b097a7ae64bc40c06b8'),\n",
      "    'metadata': { 'lat': -1.3,\n",
      "                  'lon': 36.785,\n",
      "                  'measurement': 'P2',\n",
      "                  'sensor_id': 11,\n",
      "                  'sensor_type': 'Unknown',\n",
      "                  'site': 6},\n",
      "    'timestamp': datetime.datetime(2018, 9, 1, 0, 20, 13),\n",
      "    'value': 37.33},\n",
      "  { '_id': ObjectId('678f6b097a7ae64bc40c06bb'),\n",
      "    'metadata': { 'lat': -1.3,\n",
      "                  'lon': 36.785,\n",
      "                  'measurement': 'P2',\n",
      "                  'sensor_id': 22,\n",
      "                  'sensor_type': 'Unknown',\n",
      "                  'site': 6},\n",
      "    'timestamp': datetime.datetime(2018, 9, 1, 0, 25, 15),\n",
      "    'value': 10.57}]\n"
     ]
    }
   ],
   "source": [
    "# Use the find method to retrieve the PM 2.5 readings from all sites. Be sure to limit your results to 3 records only.\n",
    "result = nairobi.find({\"metadata.measurement\":\"P2\"}).limit(5)\n",
    "pp.pprint(list(result))"
   ]
  },
  {
   "cell_type": "code",
   "execution_count": 12,
   "metadata": {},
   "outputs": [
    {
     "name": "stdout",
     "output_type": "stream",
     "text": [
      "[ {'_id': 'P2', 'count': 17861},\n",
      "  {'_id': 'temperature', 'count': 17581},\n",
      "  {'_id': 'humidity', 'count': 17477},\n",
      "  {'_id': 'P1', 'count': 17441}]\n"
     ]
    }
   ],
   "source": [
    "# Use the aggregate method to calculate how many readings there are for each type \n",
    "# (\"humidity\", \"temperature\", \"P2\", and \"P1\") in site 6\n",
    "result = nairobi.aggregate(\n",
    "[\n",
    "    {\"$match\":{\"metadata.site\":6}},\n",
    "    {\"$group\":{\"_id\":\"$metadata.measurement\",\"count\":{\"$count\":{}}}}\n",
    "]\n",
    ")\n",
    "pp.pprint(list(result))"
   ]
  },
  {
   "cell_type": "code",
   "execution_count": 13,
   "metadata": {},
   "outputs": [
    {
     "name": "stdout",
     "output_type": "stream",
     "text": [
      "[ {'_id': 'temperature', 'count': 32917},\n",
      "  {'_id': 'humidity', 'count': 32983},\n",
      "  {'_id': 'P2', 'count': 32943},\n",
      "  {'_id': 'P1', 'count': 33009}]\n"
     ]
    }
   ],
   "source": [
    "# Use the aggregate method to calculate how many readings there are for each type (\"humidity\", \"temperature\", \"P2\", and \"P1\") in site 29.\n",
    "result = nairobi.aggregate(\n",
    "[\n",
    "    {\"$match\":{\"metadata.site\":29}},\n",
    "    {\"$group\":{\"_id\":\"$metadata.measurement\",\"count\":{\"$count\":{}}}}\n",
    "]\n",
    ")\n",
    "pp.pprint(list(result))"
   ]
  },
  {
   "cell_type": "code",
   "execution_count": 14,
   "metadata": {},
   "outputs": [
    {
     "name": "stdout",
     "output_type": "stream",
     "text": [
      "{'timestamp': datetime.datetime(2018, 11, 2, 15, 5, 7)}\n"
     ]
    }
   ],
   "source": [
    "# Use the find method to retrieve the PM 2.5 readings from site 29. Be sure to limit your results to 3 records only. \n",
    "# Since we won't need the metadata for our model, use the projection argument to limit the results to the \"P2\" and \"timestamp\" \n",
    "# keys only.\n",
    "result = nairobi.find(\n",
    "    {\"metadata.site\":29,\"metadata.measurement\":\"P2\"}\n",
    "    ,projection={\"P2\":1,\"timestamp\":1,\"_id\":0}\n",
    ")\n",
    "pp.pprint(result.next())"
   ]
  },
  {
   "cell_type": "code",
   "execution_count": 15,
   "metadata": {},
   "outputs": [
    {
     "data": {
      "text/html": [
       "<div>\n",
       "<style scoped>\n",
       "    .dataframe tbody tr th:only-of-type {\n",
       "        vertical-align: middle;\n",
       "    }\n",
       "\n",
       "    .dataframe tbody tr th {\n",
       "        vertical-align: top;\n",
       "    }\n",
       "\n",
       "    .dataframe thead th {\n",
       "        text-align: right;\n",
       "    }\n",
       "</style>\n",
       "<table border=\"1\" class=\"dataframe\">\n",
       "  <thead>\n",
       "    <tr style=\"text-align: right;\">\n",
       "      <th></th>\n",
       "    </tr>\n",
       "    <tr>\n",
       "      <th>timestamp</th>\n",
       "    </tr>\n",
       "  </thead>\n",
       "  <tbody>\n",
       "    <tr>\n",
       "      <th>2018-11-02 15:10:14</th>\n",
       "    </tr>\n",
       "    <tr>\n",
       "      <th>2018-11-02 15:15:15</th>\n",
       "    </tr>\n",
       "    <tr>\n",
       "      <th>2018-11-02 15:20:20</th>\n",
       "    </tr>\n",
       "    <tr>\n",
       "      <th>2018-11-02 15:25:37</th>\n",
       "    </tr>\n",
       "    <tr>\n",
       "      <th>2018-11-02 15:30:38</th>\n",
       "    </tr>\n",
       "  </tbody>\n",
       "</table>\n",
       "</div>"
      ],
      "text/plain": [
       "Empty DataFrame\n",
       "Columns: []\n",
       "Index: [2018-11-02 15:10:14, 2018-11-02 15:15:15, 2018-11-02 15:20:20, 2018-11-02 15:25:37, 2018-11-02 15:30:38]"
      ]
     },
     "execution_count": 15,
     "metadata": {},
     "output_type": "execute_result"
    }
   ],
   "source": [
    "df = pd.DataFrame(result).set_index('timestamp')\n",
    "df.head()"
   ]
  }
 ],
 "metadata": {
  "kernelspec": {
   "display_name": "Python 3",
   "language": "python",
   "name": "python3"
  },
  "language_info": {
   "codemirror_mode": {
    "name": "ipython",
    "version": 3
   },
   "file_extension": ".py",
   "mimetype": "text/x-python",
   "name": "python",
   "nbconvert_exporter": "python",
   "pygments_lexer": "ipython3",
   "version": "3.12.4"
  }
 },
 "nbformat": 4,
 "nbformat_minor": 2
}
