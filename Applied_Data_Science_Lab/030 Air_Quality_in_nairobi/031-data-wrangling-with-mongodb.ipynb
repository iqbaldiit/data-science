{
 "cells": [
  {
   "cell_type": "code",
   "execution_count": 1,
   "metadata": {},
   "outputs": [
    {
     "data": {
      "text/plain": [
       "'\\n    Mongo Db structure\\n    -------------------\\n    MongoDB Server --> Databases --> Collections --> Documents\\n'"
      ]
     },
     "execution_count": 1,
     "metadata": {},
     "output_type": "execute_result"
    }
   ],
   "source": [
    "from pprint import PrettyPrinter # use for prin out like object or dictionaries, a module that lets us see the data in an understandable way\n",
    "\n",
    "import pandas as pd\n",
    "from IPython.display import VimeoVideo\n",
    "from pymongo import MongoClient # a library for working with MongoDB databases\n",
    "\n",
    "'''\n",
    "    Mongo Db structure\n",
    "    -------------------\n",
    "    MongoDB Server --> Databases --> Collections --> Documents\n",
    "'''"
   ]
  },
  {
   "cell_type": "code",
   "execution_count": 2,
   "metadata": {},
   "outputs": [],
   "source": [
    "# Instantiate a PrettyPrinter, and assign it to the variable pp.\n",
    "'''\n",
    "    we need to connect to a server. A database server is where the database resides; it can be accessed using a client. Without a client, \n",
    "    a database is just a collection of information that we can't work with, because we have no way in. We're going to be learning more about \n",
    "    a database called MongoDB, and we'll use PrettyPrinter to make the information it generates easier to understand. Here's how the connection works:\n",
    "'''\n",
    "pp = PrettyPrinter(indent=2)\n",
    "client = MongoClient(host=\"localhost\", port=27017)"
   ]
  },
  {
   "cell_type": "code",
   "execution_count": 3,
   "metadata": {},
   "outputs": [
    {
     "name": "stdout",
     "output_type": "stream",
     "text": [
      "[ {'empty': False, 'name': 'admin', 'sizeOnDisk': 49152},\n",
      "  {'empty': False, 'name': 'air-quality', 'sizeOnDisk': 28250112},\n",
      "  {'empty': False, 'name': 'config', 'sizeOnDisk': 49152},\n",
      "  {'empty': False, 'name': 'local', 'sizeOnDisk': 73728}]\n"
     ]
    }
   ],
   "source": [
    "# Print a list of the databases available on client.\n",
    "# list(client.list_databases())\n",
    "pp.pprint(list(client.list_databases()))"
   ]
  },
  {
   "cell_type": "code",
   "execution_count": 4,
   "metadata": {},
   "outputs": [
    {
     "data": {
      "text/plain": [
       "719404"
      ]
     },
     "execution_count": 4,
     "metadata": {},
     "output_type": "execute_result"
    }
   ],
   "source": [
    "db=client['air-quality']\n",
    "db.list_collection_names()\n",
    "nairobi=db['nairobi']\n",
    "nairobi.count_documents({})"
   ]
  },
  {
   "cell_type": "code",
   "execution_count": 6,
   "metadata": {},
   "outputs": [
    {
     "name": "stdout",
     "output_type": "stream",
     "text": [
      "{ '_id': ObjectId('67876ae2e6d4715df0f7c5d4'),\n",
      "  'lat': -1.376,\n",
      "  'location': 68,\n",
      "  'lon': 36.929,\n",
      "  'sensor_id': 128,\n",
      "  'sensor_type': 'SDS011',\n",
      "  'timestamp': datetime.datetime(2019, 9, 1, 0, 0, 2, 236000),\n",
      "  'value': 7.2,\n",
      "  'value_type': 'P2'}\n"
     ]
    }
   ],
   "source": [
    "result=nairobi.find_one({})\n",
    "pp.pprint(result)"
   ]
  }
 ],
 "metadata": {
  "kernelspec": {
   "display_name": "Python 3",
   "language": "python",
   "name": "python3"
  },
  "language_info": {
   "codemirror_mode": {
    "name": "ipython",
    "version": 3
   },
   "file_extension": ".py",
   "mimetype": "text/x-python",
   "name": "python",
   "nbconvert_exporter": "python",
   "pygments_lexer": "ipython3",
   "version": "3.12.4"
  }
 },
 "nbformat": 4,
 "nbformat_minor": 2
}
