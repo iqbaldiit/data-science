{
 "cells": [
  {
   "cell_type": "code",
   "execution_count": 1,
   "metadata": {},
   "outputs": [],
   "source": [
    "from pprint import PrettyPrinter # use for prin out like object or dictionaries, a module that lets us see the data in an understandable way\n",
    "\n",
    "import pandas as pd\n",
    "from IPython.display import VimeoVideo\n",
    "from pymongo import MongoClient # a library for working with MongoDB databases\n",
    "\n",
    "'''\n",
    "    Mongo Db structure\n",
    "    -------------------\n",
    "    MongoDB Server --> Databases --> Collections --> Documents\n",
    "'''"
   ]
  },
  {
   "cell_type": "code",
   "execution_count": 3,
   "metadata": {},
   "outputs": [],
   "source": [
    "# Instantiate a PrettyPrinter, and assign it to the variable pp.\n",
    "'''\n",
    "    we need to connect to a server. A database server is where the database resides; it can be accessed using a client. Without a client, \n",
    "    a database is just a collection of information that we can't work with, because we have no way in. We're going to be learning more about \n",
    "    a database called MongoDB, and we'll use PrettyPrinter to make the information it generates easier to understand. Here's how the connection works:\n",
    "'''\n",
    "pp = PrettyPrinter(indent=2)\n",
    "client = MongoClient(host=\"localhost\", port=27017)"
   ]
  },
  {
   "cell_type": "code",
   "execution_count": 11,
   "metadata": {},
   "outputs": [
    {
     "name": "stdout",
     "output_type": "stream",
     "text": [
      "[ {'empty': False, 'name': 'admin', 'sizeOnDisk': 49152},\n",
      "  {'empty': False, 'name': 'air-quality', 'sizeOnDisk': 40960},\n",
      "  {'empty': False, 'name': 'config', 'sizeOnDisk': 110592},\n",
      "  {'empty': False, 'name': 'local', 'sizeOnDisk': 73728}]\n"
     ]
    }
   ],
   "source": [
    "# Print a list of the databases available on client.\n",
    "# list(client.list_databases())\n",
    "pp.pprint(list(client.list_databases()))"
   ]
  },
  {
   "cell_type": "code",
   "execution_count": 19,
   "metadata": {},
   "outputs": [
    {
     "data": {
      "text/plain": [
       "0"
      ]
     },
     "execution_count": 19,
     "metadata": {},
     "output_type": "execute_result"
    }
   ],
   "source": [
    "db=client['admin']\n",
    "db.list_collection_names()\n",
    "Person=db['Person']\n",
    "Person.count_documents({})"
   ]
  },
  {
   "cell_type": "code",
   "execution_count": 20,
   "metadata": {},
   "outputs": [
    {
     "name": "stdout",
     "output_type": "stream",
     "text": [
      "None\n"
     ]
    }
   ],
   "source": [
    "result=Person.find_one({})\n",
    "pp.pprint(result)"
   ]
  }
 ],
 "metadata": {
  "kernelspec": {
   "display_name": "Python 3",
   "language": "python",
   "name": "python3"
  },
  "language_info": {
   "codemirror_mode": {
    "name": "ipython",
    "version": 3
   },
   "file_extension": ".py",
   "mimetype": "text/x-python",
   "name": "python",
   "nbconvert_exporter": "python",
   "pygments_lexer": "ipython3",
   "version": "3.12.4"
  }
 },
 "nbformat": 4,
 "nbformat_minor": 2
}
